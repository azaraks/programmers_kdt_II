{
 "cells": [
  {
   "cell_type": "code",
   "execution_count": 1,
   "metadata": {
    "collapsed": true
   },
   "outputs": [
    {
     "data": {
      "text/plain": "                  Name Alignment  Intelligence  Strength  Speed  Durability  \\\n361  Martian Manhunter      good           100       100     96         100   \n\n     Power  Combat  Total  \n361    100      85    581  ",
      "text/html": "<div>\n<style scoped>\n    .dataframe tbody tr th:only-of-type {\n        vertical-align: middle;\n    }\n\n    .dataframe tbody tr th {\n        vertical-align: top;\n    }\n\n    .dataframe thead th {\n        text-align: right;\n    }\n</style>\n<table border=\"1\" class=\"dataframe\">\n  <thead>\n    <tr style=\"text-align: right;\">\n      <th></th>\n      <th>Name</th>\n      <th>Alignment</th>\n      <th>Intelligence</th>\n      <th>Strength</th>\n      <th>Speed</th>\n      <th>Durability</th>\n      <th>Power</th>\n      <th>Combat</th>\n      <th>Total</th>\n    </tr>\n  </thead>\n  <tbody>\n    <tr>\n      <th>361</th>\n      <td>Martian Manhunter</td>\n      <td>good</td>\n      <td>100</td>\n      <td>100</td>\n      <td>96</td>\n      <td>100</td>\n      <td>100</td>\n      <td>85</td>\n      <td>581</td>\n    </tr>\n  </tbody>\n</table>\n</div>"
     },
     "execution_count": 1,
     "metadata": {},
     "output_type": "execute_result"
    }
   ],
   "source": [
    "import pandas as pd\n",
    "\n",
    "\n",
    "publi = pd.read_csv('marvel_characters_info.csv')\n",
    "stats = pd.read_csv('charcters_stats.csv')\n",
    "\n",
    "stats[stats.Total == stats.Total.max()]"
   ]
  },
  {
   "cell_type": "code",
   "execution_count": 2,
   "outputs": [
    {
     "data": {
      "text/plain": "<matplotlib.legend.Legend at 0x20031c267f0>"
     },
     "execution_count": 2,
     "metadata": {},
     "output_type": "execute_result"
    },
    {
     "data": {
      "text/plain": "<Figure size 576x432 with 1 Axes>",
      "image/png": "[encoded data removed]"
     },
     "metadata": {
      "needs_background": "light"
     },
     "output_type": "display_data"
    }
   ],
   "source": [
    "ax = stats.groupby(by='Alignment').mean().plot(kind='barh',\n",
    "                                               figsize=(8, 6),\n",
    "                                               xerr=stats.groupby(by='Alignment').std())\n",
    "ax.legend(loc='right', bbox_to_anchor=(1.5, 0.5))"
   ],
   "metadata": {
    "collapsed": false,
    "pycharm": {
     "name": "#%%\n"
    }
   }
  },
  {
   "cell_type": "code",
   "execution_count": 3,
   "outputs": [
    {
     "data": {
      "text/plain": "                    Total\nPublisher                \nShueisha       481.500000\nMicrosoft      425.000000\nSony Pictures  398.000000\nDC Comics      253.436047\nMarvel Comics  243.851003",
      "text/html": "<div>\n<style scoped>\n    .dataframe tbody tr th:only-of-type {\n        vertical-align: middle;\n    }\n\n    .dataframe tbody tr th {\n        vertical-align: top;\n    }\n\n    .dataframe thead th {\n        text-align: right;\n    }\n</style>\n<table border=\"1\" class=\"dataframe\">\n  <thead>\n    <tr style=\"text-align: right;\">\n      <th></th>\n      <th>Total</th>\n    </tr>\n    <tr>\n      <th>Publisher</th>\n      <th></th>\n    </tr>\n  </thead>\n  <tbody>\n    <tr>\n      <th>Shueisha</th>\n      <td>481.500000</td>\n    </tr>\n    <tr>\n      <th>Microsoft</th>\n      <td>425.000000</td>\n    </tr>\n    <tr>\n      <th>Sony Pictures</th>\n      <td>398.000000</td>\n    </tr>\n    <tr>\n      <th>DC Comics</th>\n      <td>253.436047</td>\n    </tr>\n    <tr>\n      <th>Marvel Comics</th>\n      <td>243.851003</td>\n    </tr>\n  </tbody>\n</table>\n</div>"
     },
     "execution_count": 3,
     "metadata": {},
     "output_type": "execute_result"
    }
   ],
   "source": [
    "stat_pub = pd.merge(publi[['Name', 'Publisher']], stats[['Name', 'Total']])\n",
    "stat_pub.groupby(by='Publisher').mean().sort_values('Total', ascending=False).head()"
   ],
   "metadata": {
    "collapsed": false,
    "pycharm": {
     "name": "#%%\n"
    }
   }
  },
  {
   "cell_type": "markdown",
   "source": [
    "저 위에 평균과 분산 그래프로 보아 처음엔 good이 밀리다 neutral이 가세해 good이 이기는 식이 주류일 것으로 보인다."
   ],
   "metadata": {
    "collapsed": false
   }
  },
  {
   "cell_type": "markdown",
   "source": [
    "딱히 하고 싶은 데이터가 없음.\n"
   ],
   "metadata": {
    "collapsed": false,
    "pycharm": {
     "name": "#%% md\n"
    }
   }
  }
 ],
 "metadata": {
  "kernelspec": {
   "display_name": "Python 3",
   "language": "python",
   "name": "python3"
  },
  "language_info": {
   "codemirror_mode": {
    "name": "ipython",
    "version": 2
   },
   "file_extension": ".py",
   "mimetype": "text/x-python",
   "name": "python",
   "nbconvert_exporter": "python",
   "pygments_lexer": "ipython2",
   "version": "2.7.6"
  }
 },
 "nbformat": 4,
 "nbformat_minor": 0
}